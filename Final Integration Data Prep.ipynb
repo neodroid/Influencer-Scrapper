{
 "cells": [
  {
   "cell_type": "code",
   "execution_count": 1,
   "id": "1d8d6fa0",
   "metadata": {},
   "outputs": [],
   "source": [
    "import pandas as pd\n",
    "import numpy as np\n",
    "import os\n",
    "import json"
   ]
  },
  {
   "cell_type": "markdown",
   "id": "2230ef78",
   "metadata": {},
   "source": [
    "# Data Import"
   ]
  },
  {
   "cell_type": "markdown",
   "id": "0dfb8748",
   "metadata": {},
   "source": [
    "### Instagram Captions"
   ]
  },
  {
   "cell_type": "markdown",
   "id": "7e1bea2a",
   "metadata": {},
   "source": [
    "[Link](https://www.kaggle.com/datasets/prithvijaunjale/instagram-images-with-captions/)"
   ]
  },
  {
   "cell_type": "code",
   "execution_count": 2,
   "id": "fcc4c11f",
   "metadata": {},
   "outputs": [],
   "source": [
    "captions1 = pd.read_csv(\"Data/InstagramData/captions_csv.csv\")\n",
    "captions2 = pd.read_csv(\"Data/InstagramData/captions_csv2.csv\", header=None)\n",
    "captions2.columns = captions1.columns"
   ]
  },
  {
   "cell_type": "code",
   "execution_count": 3,
   "id": "b397b622",
   "metadata": {},
   "outputs": [
    {
     "data": {
      "text/html": [
       "<div>\n",
       "<style scoped>\n",
       "    .dataframe tbody tr th:only-of-type {\n",
       "        vertical-align: middle;\n",
       "    }\n",
       "\n",
       "    .dataframe tbody tr th {\n",
       "        vertical-align: top;\n",
       "    }\n",
       "\n",
       "    .dataframe thead th {\n",
       "        text-align: right;\n",
       "    }\n",
       "</style>\n",
       "<table border=\"1\" class=\"dataframe\">\n",
       "  <thead>\n",
       "    <tr style=\"text-align: right;\">\n",
       "      <th></th>\n",
       "      <th>Sr No</th>\n",
       "      <th>Image File</th>\n",
       "      <th>Caption</th>\n",
       "    </tr>\n",
       "  </thead>\n",
       "  <tbody>\n",
       "    <tr>\n",
       "      <th>20510</th>\n",
       "      <td>20511</td>\n",
       "      <td>img/insta20511</td>\n",
       "      <td>Cowgirl :)</td>\n",
       "    </tr>\n",
       "    <tr>\n",
       "      <th>20511</th>\n",
       "      <td>20512</td>\n",
       "      <td>img/insta20512</td>\n",
       "      <td>&lt;3</td>\n",
       "    </tr>\n",
       "    <tr>\n",
       "      <th>20512</th>\n",
       "      <td>20513</td>\n",
       "      <td>img/insta20513</td>\n",
       "      <td>I love me and Kylie's nail polish colors!</td>\n",
       "    </tr>\n",
       "    <tr>\n",
       "      <th>20513</th>\n",
       "      <td>20514</td>\n",
       "      <td>img/insta20514</td>\n",
       "      <td>Fammm</td>\n",
       "    </tr>\n",
       "    <tr>\n",
       "      <th>20514</th>\n",
       "      <td>20515</td>\n",
       "      <td>img/insta20515</td>\n",
       "      <td>Disneyland!</td>\n",
       "    </tr>\n",
       "  </tbody>\n",
       "</table>\n",
       "</div>"
      ],
      "text/plain": [
       "       Sr No      Image File                                     Caption\n",
       "20510  20511  img/insta20511                                 Cowgirl :) \n",
       "20511  20512  img/insta20512                                         <3 \n",
       "20512  20513  img/insta20513  I love me and Kylie's nail polish colors! \n",
       "20513  20514  img/insta20514                                      Fammm \n",
       "20514  20515  img/insta20515                                Disneyland! "
      ]
     },
     "execution_count": 3,
     "metadata": {},
     "output_type": "execute_result"
    }
   ],
   "source": [
    "captions1.tail()"
   ]
  },
  {
   "cell_type": "code",
   "execution_count": 4,
   "id": "6ef45d22",
   "metadata": {},
   "outputs": [
    {
     "data": {
      "text/html": [
       "<div>\n",
       "<style scoped>\n",
       "    .dataframe tbody tr th:only-of-type {\n",
       "        vertical-align: middle;\n",
       "    }\n",
       "\n",
       "    .dataframe tbody tr th {\n",
       "        vertical-align: top;\n",
       "    }\n",
       "\n",
       "    .dataframe thead th {\n",
       "        text-align: right;\n",
       "    }\n",
       "</style>\n",
       "<table border=\"1\" class=\"dataframe\">\n",
       "  <thead>\n",
       "    <tr style=\"text-align: right;\">\n",
       "      <th></th>\n",
       "      <th>Sr No</th>\n",
       "      <th>Image File</th>\n",
       "      <th>Caption</th>\n",
       "    </tr>\n",
       "  </thead>\n",
       "  <tbody>\n",
       "    <tr>\n",
       "      <th>0</th>\n",
       "      <td>20516</td>\n",
       "      <td>img2/insta20516</td>\n",
       "      <td>wHaT dAy Is It Even #stayhomeclub</td>\n",
       "    </tr>\n",
       "    <tr>\n",
       "      <th>1</th>\n",
       "      <td>20517</td>\n",
       "      <td>img2/insta20517</td>\n",
       "      <td>Vitamin C for your fashion diet #KatyPursey #S...</td>\n",
       "    </tr>\n",
       "    <tr>\n",
       "      <th>2</th>\n",
       "      <td>20518</td>\n",
       "      <td>img2/insta20518</td>\n",
       "      <td>do you know the hotter the fire the purer the ...</td>\n",
       "    </tr>\n",
       "    <tr>\n",
       "      <th>3</th>\n",
       "      <td>20519</td>\n",
       "      <td>img2/insta20519</td>\n",
       "      <td>@ryanseacrest 👍🏻</td>\n",
       "    </tr>\n",
       "    <tr>\n",
       "      <th>4</th>\n",
       "      <td>20520</td>\n",
       "      <td>img2/insta20520</td>\n",
       "      <td>working hard or hardly working idk 🤷🏼‍♀️</td>\n",
       "    </tr>\n",
       "  </tbody>\n",
       "</table>\n",
       "</div>"
      ],
      "text/plain": [
       "   Sr No       Image File                                            Caption\n",
       "0  20516  img2/insta20516                  wHaT dAy Is It Even #stayhomeclub\n",
       "1  20517  img2/insta20517  Vitamin C for your fashion diet #KatyPursey #S...\n",
       "2  20518  img2/insta20518  do you know the hotter the fire the purer the ...\n",
       "3  20519  img2/insta20519                                   @ryanseacrest 👍🏻\n",
       "4  20520  img2/insta20520           working hard or hardly working idk 🤷🏼‍♀️"
      ]
     },
     "execution_count": 4,
     "metadata": {},
     "output_type": "execute_result"
    }
   ],
   "source": [
    "captions2.head()"
   ]
  },
  {
   "cell_type": "code",
   "execution_count": 5,
   "id": "17653143",
   "metadata": {},
   "outputs": [
    {
     "name": "stdout",
     "output_type": "stream",
     "text": [
      "(20515, 3)\n",
      "(14412, 3)\n"
     ]
    }
   ],
   "source": [
    "print(captions1.shape)\n",
    "print(captions2.shape)"
   ]
  },
  {
   "cell_type": "code",
   "execution_count": 6,
   "id": "50f6d3a1",
   "metadata": {},
   "outputs": [],
   "source": [
    "captions = pd.concat([captions1,captions2]).reset_index(drop=True)"
   ]
  },
  {
   "cell_type": "code",
   "execution_count": 7,
   "id": "f0924c66",
   "metadata": {},
   "outputs": [
    {
     "data": {
      "text/html": [
       "<div>\n",
       "<style scoped>\n",
       "    .dataframe tbody tr th:only-of-type {\n",
       "        vertical-align: middle;\n",
       "    }\n",
       "\n",
       "    .dataframe tbody tr th {\n",
       "        vertical-align: top;\n",
       "    }\n",
       "\n",
       "    .dataframe thead th {\n",
       "        text-align: right;\n",
       "    }\n",
       "</style>\n",
       "<table border=\"1\" class=\"dataframe\">\n",
       "  <thead>\n",
       "    <tr style=\"text-align: right;\">\n",
       "      <th></th>\n",
       "      <th>Sr No</th>\n",
       "      <th>Image File</th>\n",
       "      <th>Caption</th>\n",
       "    </tr>\n",
       "  </thead>\n",
       "  <tbody>\n",
       "    <tr>\n",
       "      <th>0</th>\n",
       "      <td>1</td>\n",
       "      <td>img/insta1</td>\n",
       "      <td>NaN</td>\n",
       "    </tr>\n",
       "    <tr>\n",
       "      <th>1</th>\n",
       "      <td>2</td>\n",
       "      <td>img/insta2</td>\n",
       "      <td>bye</td>\n",
       "    </tr>\n",
       "    <tr>\n",
       "      <th>2</th>\n",
       "      <td>3</td>\n",
       "      <td>img/insta3</td>\n",
       "      <td>Ok, a few more... sorry I just had so much fun...</td>\n",
       "    </tr>\n",
       "    <tr>\n",
       "      <th>3</th>\n",
       "      <td>4</td>\n",
       "      <td>img/insta4</td>\n",
       "      <td>This was one of my favorite shoots I’ve ever d...</td>\n",
       "    </tr>\n",
       "    <tr>\n",
       "      <th>4</th>\n",
       "      <td>5</td>\n",
       "      <td>img/insta5</td>\n",
       "      <td>Wrapped round my finger like a ring</td>\n",
       "    </tr>\n",
       "    <tr>\n",
       "      <th>...</th>\n",
       "      <td>...</td>\n",
       "      <td>...</td>\n",
       "      <td>...</td>\n",
       "    </tr>\n",
       "    <tr>\n",
       "      <th>34922</th>\n",
       "      <td>34923</td>\n",
       "      <td>img2/insta34923</td>\n",
       "      <td>Mexican vegan pizza I made from scratch. Meat ...</td>\n",
       "    </tr>\n",
       "    <tr>\n",
       "      <th>34923</th>\n",
       "      <td>34924</td>\n",
       "      <td>img2/insta34924</td>\n",
       "      <td>Hummm....Can u spot the error?</td>\n",
       "    </tr>\n",
       "    <tr>\n",
       "      <th>34924</th>\n",
       "      <td>34925</td>\n",
       "      <td>img2/insta34925</td>\n",
       "      <td>Snuggling with the dry cleaning</td>\n",
       "    </tr>\n",
       "    <tr>\n",
       "      <th>34925</th>\n",
       "      <td>34926</td>\n",
       "      <td>img2/insta34926</td>\n",
       "      <td>Morning practice</td>\n",
       "    </tr>\n",
       "    <tr>\n",
       "      <th>34926</th>\n",
       "      <td>34927</td>\n",
       "      <td>img2/insta34927</td>\n",
       "      <td>Up up and away!!!</td>\n",
       "    </tr>\n",
       "  </tbody>\n",
       "</table>\n",
       "<p>34927 rows × 3 columns</p>\n",
       "</div>"
      ],
      "text/plain": [
       "       Sr No       Image File  \\\n",
       "0          1       img/insta1   \n",
       "1          2       img/insta2   \n",
       "2          3       img/insta3   \n",
       "3          4       img/insta4   \n",
       "4          5       img/insta5   \n",
       "...      ...              ...   \n",
       "34922  34923  img2/insta34923   \n",
       "34923  34924  img2/insta34924   \n",
       "34924  34925  img2/insta34925   \n",
       "34925  34926  img2/insta34926   \n",
       "34926  34927  img2/insta34927   \n",
       "\n",
       "                                                 Caption  \n",
       "0                                                    NaN  \n",
       "1                                                   bye   \n",
       "2      Ok, a few more... sorry I just had so much fun...  \n",
       "3      This was one of my favorite shoots I’ve ever d...  \n",
       "4                   Wrapped round my finger like a ring   \n",
       "...                                                  ...  \n",
       "34922  Mexican vegan pizza I made from scratch. Meat ...  \n",
       "34923                    Hummm....Can u spot the error?   \n",
       "34924                    Snuggling with the dry cleaning  \n",
       "34925                                  Morning practice   \n",
       "34926                                  Up up and away!!!  \n",
       "\n",
       "[34927 rows x 3 columns]"
      ]
     },
     "execution_count": 7,
     "metadata": {},
     "output_type": "execute_result"
    }
   ],
   "source": [
    "captions"
   ]
  },
  {
   "cell_type": "markdown",
   "id": "3eda4428",
   "metadata": {},
   "source": [
    "### Instagram Seungbae Kim"
   ]
  },
  {
   "cell_type": "code",
   "execution_count": 8,
   "id": "3fdb83c8",
   "metadata": {},
   "outputs": [],
   "source": [
    "#Import .info data\n",
    "folder_path = 'Data/CombinedSeungbaeKim/info'\n",
    "info_files = [f for f in os.listdir(folder_path) if f.endswith('.info')]\n",
    "file_contents = {}\n",
    "\n",
    "#Loop through each file and read its contents\n",
    "for file in info_files:\n",
    "    with open(os.path.join(folder_path, file), 'r') as file_obj:\n",
    "        # Read the file content\n",
    "        content = file_obj.read()\n",
    "        # Store the content in the dictionary\n",
    "        file_contents[file] = content"
   ]
  },
  {
   "cell_type": "code",
   "execution_count": 9,
   "id": "8ff17536",
   "metadata": {},
   "outputs": [],
   "source": [
    "#Convert the dictionary into a dataframe\n",
    "data = file_contents\n",
    "#Parsing the JSON strings\n",
    "for key in data:\n",
    "    data[key] = json.loads(data[key])\n",
    "#Converting to DataFrame\n",
    "instagram_sk = pd.DataFrame.from_dict(data, orient='index')"
   ]
  },
  {
   "cell_type": "code",
   "execution_count": 10,
   "id": "97a0e675",
   "metadata": {},
   "outputs": [
    {
     "data": {
      "text/plain": [
       "Index(['gating_info', 'viewer_can_reshare', 'display_resources',\n",
       "       'viewer_in_photo_of_you', 'viewer_has_saved_to_collection',\n",
       "       'viewer_has_saved', 'owner', 'viewer_has_liked', 'id',\n",
       "       'should_log_client_event', 'edge_media_preview_like',\n",
       "       'edge_media_to_tagged_user', 'dimensions', '__typename', 'location',\n",
       "       'shortcode', 'is_ad', 'caption_is_edited',\n",
       "       'edge_media_to_parent_comment', 'media_preview', 'taken_at_timestamp',\n",
       "       'edge_media_to_caption', 'tracking_token', 'has_ranked_comments',\n",
       "       'display_url', 'edge_web_media_to_related_media',\n",
       "       'edge_media_preview_comment', 'comments_disabled',\n",
       "       'edge_media_to_sponsor_user', 'accessibility_caption', 'is_video',\n",
       "       'edge_media_to_comment', 'fact_check_information',\n",
       "       'edge_sidecar_to_children'],\n",
       "      dtype='object')"
      ]
     },
     "execution_count": 10,
     "metadata": {},
     "output_type": "execute_result"
    }
   ],
   "source": [
    "instagram_sk.columns"
   ]
  },
  {
   "cell_type": "code",
   "execution_count": 11,
   "id": "8a4d68aa",
   "metadata": {},
   "outputs": [
    {
     "data": {
      "text/plain": [
       "gating_info                                                                     None\n",
       "viewer_can_reshare                                                              True\n",
       "display_resources                  [{'src': 'https://scontent-lax3-1.cdninstagram...\n",
       "viewer_in_photo_of_you                                                         False\n",
       "viewer_has_saved_to_collection                                                 False\n",
       "viewer_has_saved                                                               False\n",
       "owner                              {'username': 'lelien_tomo', 'is_unpublished': ...\n",
       "viewer_has_liked                                                               False\n",
       "id                                                               1830138903170861888\n",
       "should_log_client_event                                                        False\n",
       "edge_media_preview_like                                  {'count': 321, 'edges': []}\n",
       "edge_media_to_tagged_user          {'edges': [{'node': {'y': 0.8426666667, 'x': 0...\n",
       "dimensions                                           {'width': 1080, 'height': 1080}\n",
       "__typename                                                                GraphImage\n",
       "location                                                                        None\n",
       "shortcode                                                                Bll9aLNH0tA\n",
       "is_ad                                                                          False\n",
       "caption_is_edited                                                              False\n",
       "edge_media_to_parent_comment       {'count': 16, 'page_info': {'end_cursor': None...\n",
       "media_preview                      ACoq6BmxVKaTFSmRcZLAY68isS8vlY7IfmPr/hUjFubsR+...\n",
       "taken_at_timestamp                                                        1532389580\n",
       "edge_media_to_caption              {'edges': [{'node': {'text': '大好きだったばあちゃんのミシン。...\n",
       "tracking_token                     eyJ2ZXJzaW9uIjo1LCJwYXlsb2FkIjp7ImlzX2FuYWx5dG...\n",
       "has_ranked_comments                                                            False\n",
       "display_url                        https://scontent-lax3-1.cdninstagram.com/vp/ae...\n",
       "edge_web_media_to_related_media                                        {'edges': []}\n",
       "edge_media_preview_comment         {'count': 16, 'edges': [{'node': {'text': '@le...\n",
       "comments_disabled                                                              False\n",
       "edge_media_to_sponsor_user                                             {'edges': []}\n",
       "accessibility_caption                                No photo description available.\n",
       "is_video                                                                       False\n",
       "edge_media_to_comment                                                            NaN\n",
       "fact_check_information                                                           NaN\n",
       "edge_sidecar_to_children                                                         NaN\n",
       "Name: lelien_tomo-1830138903170861888.info, dtype: object"
      ]
     },
     "execution_count": 11,
     "metadata": {},
     "output_type": "execute_result"
    }
   ],
   "source": [
    "instagram_sk.iloc[0,:]"
   ]
  },
  {
   "cell_type": "code",
   "execution_count": 12,
   "id": "9c7c65d8",
   "metadata": {},
   "outputs": [
    {
     "data": {
      "text/plain": [
       "lelien_tomo-1830138903170861888.info           {'edges': [{'node': {'text': '大好きだったばあちゃんのミシン。...\n",
       "veverkakokos-1489332816747241995.info          {'edges': [{'node': {'text': 'Dneska tohle poc...\n",
       "alicekings-1969215886536407515.info                     {'edges': [{'node': {'text': 'Quack'}}]}\n",
       "nicolenic1973-1910237140220224662.info         {'edges': [{'node': {'text': '🌅 Im trüben Nove...\n",
       "aleyahs-1838455027463857801.info               {'edges': [{'node': {'text': 'Island attire in...\n",
       "                                                                     ...                        \n",
       "practicalbydefault-1950926439696254291.info    {'edges': [{'node': {'text': 'There\\'s a truth...\n",
       "oliviajoehl-1340109690923484965.info           {'edges': [{'node': {'text': '• hello little l...\n",
       "power953-1977994399000152670.info              {'edges': [{'node': {'text': 'Ladies sound off...\n",
       "q1043-2009656646447778371.info                 {'edges': [{'node': {'text': 'Who’s excited fo...\n",
       "prekpages-1991076281141374360.info             {'edges': [{'node': {'text': \"Looking for a fu...\n",
       "Name: edge_media_to_caption, Length: 39907, dtype: object"
      ]
     },
     "execution_count": 12,
     "metadata": {},
     "output_type": "execute_result"
    }
   ],
   "source": [
    "instagram_sk.edge_media_to_caption"
   ]
  },
  {
   "cell_type": "code",
   "execution_count": 13,
   "id": "9eaed5d0",
   "metadata": {},
   "outputs": [],
   "source": [
    "def text_extract(x):\n",
    "    edge = x['edges']\n",
    "    if len(edge) != 0:\n",
    "        node = edge[0]\n",
    "        text = node['node']['text']\n",
    "    else:\n",
    "        text = \"\"\n",
    "    return text\n",
    "\n",
    "texts_caption = [text_extract(i) for i in instagram_sk.edge_media_to_caption]\n",
    "texts_caption = [i for i in texts_caption if i !=\"\"]"
   ]
  },
  {
   "cell_type": "code",
   "execution_count": 15,
   "id": "cb5a3b74",
   "metadata": {},
   "outputs": [
    {
     "data": {
      "text/plain": [
       "['大好きだったばあちゃんのミシン。\\n高校生の時はよく学校帰りにばあちゃんの家に寄って、夕飯食べて帰ったりしたな〜。\\n何気ない会話すぎて話した内容ってあまり覚えてないけど、美味しかったばあちゃんご飯の味って何年経っても忘れないものだね✨\\n\\n@danielwellington さんの時計✨\\n7月5日よりダニエル・ウェリントン今年最大のサマーキャンペーンが開催！\\n\\n期間延長！7/5～7/29 任意腕時計の購入でCuff 50％OFF【クーポンの併用可】\\n\\n１５％OFFクーポンコード：tomo2018\\n\\n有効期限: 2018年9月15日まで\\n\\nダニエルウェリントン公式サイトのURL（www.danielwellington.com/jp <http://www.danielwellington.com/jp>） #danielwellington \\n#ダニエルウェリントン\\n#myclassicdw \\n#サマーキャンペーン',\n",
       " 'Dneska tohle pocasi zase bylo 😍 co vic chtit.\\n#sunnyday #photography #nature #pond #energy #amazingplace #dnescestujem',\n",
       " 'Quack']"
      ]
     },
     "execution_count": 15,
     "metadata": {},
     "output_type": "execute_result"
    }
   ],
   "source": [
    "texts_caption[:3]"
   ]
  },
  {
   "cell_type": "code",
   "execution_count": 16,
   "id": "a5139891",
   "metadata": {},
   "outputs": [
    {
     "data": {
      "text/plain": [
       "lelien_tomo-1830138903170861888.info           {'count': 16, 'edges': [{'node': {'text': '@le...\n",
       "veverkakokos-1489332816747241995.info                                  {'count': 0, 'edges': []}\n",
       "alicekings-1969215886536407515.info            {'count': 2, 'edges': [{'node': {'text': '!! F...\n",
       "nicolenic1973-1910237140220224662.info         {'count': 12, 'edges': [{'node': {'text': '📷👌'...\n",
       "aleyahs-1838455027463857801.info               {'count': 10, 'edges': [{'node': {'text': 'Let...\n",
       "                                                                     ...                        \n",
       "practicalbydefault-1950926439696254291.info    {'count': 3, 'edges': [{'node': {'text': '@mom...\n",
       "oliviajoehl-1340109690923484965.info                                   {'count': 0, 'edges': []}\n",
       "power953-1977994399000152670.info              {'count': 28, 'edges': [{'node': {'text': 'Tim...\n",
       "q1043-2009656646447778371.info                 {'count': 5, 'edges': [{'node': {'text': '🙌', ...\n",
       "prekpages-1991076281141374360.info             {'count': 1, 'edges': [{'node': {'text': 'Vane...\n",
       "Name: edge_media_preview_comment, Length: 39907, dtype: object"
      ]
     },
     "execution_count": 16,
     "metadata": {},
     "output_type": "execute_result"
    }
   ],
   "source": [
    "instagram_sk.edge_media_preview_comment"
   ]
  },
  {
   "cell_type": "code",
   "execution_count": 17,
   "id": "0f2661a1",
   "metadata": {},
   "outputs": [],
   "source": [
    "def text_extract_media_preview_comment(x):\n",
    "    if isinstance(x,dict):\n",
    "        edge = x['edges']\n",
    "        if len(edge) != 0:\n",
    "            node = edge[0]\n",
    "            text = node['node']['text']\n",
    "        else:\n",
    "            text = \"\"\n",
    "    else:\n",
    "        text = \"\" \n",
    "    return text\n",
    "\n",
    "texts_media_preview_comment = [text_extract_media_preview_comment(i) for i in instagram_sk.edge_media_preview_comment]\n",
    "texts_media_preview_comment = [i for i in texts_media_preview_comment if i!=\"\"]"
   ]
  },
  {
   "cell_type": "code",
   "execution_count": 46,
   "id": "dc80f6a3",
   "metadata": {},
   "outputs": [
    {
     "name": "stdout",
     "output_type": "stream",
     "text": [
      "39907\n",
      "39907\n",
      "41127\n"
     ]
    }
   ],
   "source": [
    "def text_extract_media_to_parent_comment_layer1(x):\n",
    "    if isinstance(x,dict):\n",
    "        edge = x['edges']\n",
    "        if len(edge) != 0:\n",
    "            node = edge[0]\n",
    "            text = node['node']['text']\n",
    "        else:\n",
    "            text = \"\"\n",
    "    else:\n",
    "        text = \"\" \n",
    "    return text\n",
    "\n",
    "texts_media_to_parent_comment_layer1 = [text_extract_media_to_parent_comment_layer1(i) for i in instagram_sk.edge_media_to_parent_comment]\n",
    "\n",
    "def text_extract_media_to_parent_comment_layer2(x):\n",
    "    if isinstance(x,dict):\n",
    "        edge = x['edges']\n",
    "        if len(edge) != 0:\n",
    "            layer2edge = edge[0]['node']['edge_threaded_comments']['edges']\n",
    "            if len(layer2edge) != 0:\n",
    "                node = edge[0]\n",
    "                text = node['node']['text']\n",
    "            else:\n",
    "                text = \"\"\n",
    "        else:\n",
    "            text = \"\"\n",
    "    else:\n",
    "        text = \"\" \n",
    "    return text\n",
    "\n",
    "texts_media_to_parent_comment_layer2 = [text_extract_media_to_parent_comment_layer2(i) for i in instagram_sk.edge_media_to_parent_comment]\n",
    "\n",
    "\n",
    "print(len(texts_media_to_parent_comment_layer1))\n",
    "print(len(texts_media_to_parent_comment_layer2))\n",
    "\n",
    "#Combine both layers\n",
    "texts_media_to_parent_comment = texts_media_to_parent_comment_layer1 + texts_media_to_parent_comment_layer2\n",
    "texts_media_to_parent_comment = [i for i in texts_media_to_parent_comment if i!=\"\"]\n",
    "\n",
    "print(len(texts_media_to_parent_comment))"
   ]
  },
  {
   "cell_type": "markdown",
   "id": "67f7d425",
   "metadata": {},
   "source": [
    "### Combine all Instagram SK Data"
   ]
  },
  {
   "cell_type": "code",
   "execution_count": 55,
   "id": "0bdcd394",
   "metadata": {},
   "outputs": [],
   "source": [
    "texts = texts_caption + texts_media_preview_comment + texts_media_to_parent_comment"
   ]
  },
  {
   "cell_type": "code",
   "execution_count": 56,
   "id": "e43868fe",
   "metadata": {},
   "outputs": [
    {
     "data": {
      "text/plain": [
       "113467"
      ]
     },
     "execution_count": 56,
     "metadata": {},
     "output_type": "execute_result"
    }
   ],
   "source": [
    "len(texts)"
   ]
  },
  {
   "cell_type": "markdown",
   "id": "2448a62c",
   "metadata": {},
   "source": [
    "### Combine the Data"
   ]
  },
  {
   "cell_type": "code",
   "execution_count": 57,
   "id": "930b9cfb",
   "metadata": {},
   "outputs": [],
   "source": [
    "caption_list = list(captions.Caption)"
   ]
  },
  {
   "cell_type": "code",
   "execution_count": 58,
   "id": "7f51c223",
   "metadata": {},
   "outputs": [
    {
     "data": {
      "text/html": [
       "<div>\n",
       "<style scoped>\n",
       "    .dataframe tbody tr th:only-of-type {\n",
       "        vertical-align: middle;\n",
       "    }\n",
       "\n",
       "    .dataframe tbody tr th {\n",
       "        vertical-align: top;\n",
       "    }\n",
       "\n",
       "    .dataframe thead th {\n",
       "        text-align: right;\n",
       "    }\n",
       "</style>\n",
       "<table border=\"1\" class=\"dataframe\">\n",
       "  <thead>\n",
       "    <tr style=\"text-align: right;\">\n",
       "      <th></th>\n",
       "      <th>Captions</th>\n",
       "    </tr>\n",
       "  </thead>\n",
       "  <tbody>\n",
       "    <tr>\n",
       "      <th>0</th>\n",
       "      <td>大好きだったばあちゃんのミシン。\\n高校生の時はよく学校帰りにばあちゃんの家に寄って、夕飯食...</td>\n",
       "    </tr>\n",
       "    <tr>\n",
       "      <th>1</th>\n",
       "      <td>Dneska tohle pocasi zase bylo 😍 co vic chtit.\\...</td>\n",
       "    </tr>\n",
       "    <tr>\n",
       "      <th>2</th>\n",
       "      <td>Quack</td>\n",
       "    </tr>\n",
       "    <tr>\n",
       "      <th>3</th>\n",
       "      <td>🌅 Im trüben November brauche ich \"Stimmungsauf...</td>\n",
       "    </tr>\n",
       "    <tr>\n",
       "      <th>4</th>\n",
       "      <td>Island attire inspired by Alex Colville.\\n.\\n....</td>\n",
       "    </tr>\n",
       "    <tr>\n",
       "      <th>...</th>\n",
       "      <td>...</td>\n",
       "    </tr>\n",
       "    <tr>\n",
       "      <th>148389</th>\n",
       "      <td>Mexican vegan pizza I made from scratch. Meat ...</td>\n",
       "    </tr>\n",
       "    <tr>\n",
       "      <th>148390</th>\n",
       "      <td>Hummm....Can u spot the error?</td>\n",
       "    </tr>\n",
       "    <tr>\n",
       "      <th>148391</th>\n",
       "      <td>Snuggling with the dry cleaning</td>\n",
       "    </tr>\n",
       "    <tr>\n",
       "      <th>148392</th>\n",
       "      <td>Morning practice</td>\n",
       "    </tr>\n",
       "    <tr>\n",
       "      <th>148393</th>\n",
       "      <td>Up up and away!!!</td>\n",
       "    </tr>\n",
       "  </tbody>\n",
       "</table>\n",
       "<p>148394 rows × 1 columns</p>\n",
       "</div>"
      ],
      "text/plain": [
       "                                                 Captions\n",
       "0       大好きだったばあちゃんのミシン。\\n高校生の時はよく学校帰りにばあちゃんの家に寄って、夕飯食...\n",
       "1       Dneska tohle pocasi zase bylo 😍 co vic chtit.\\...\n",
       "2                                                   Quack\n",
       "3       🌅 Im trüben November brauche ich \"Stimmungsauf...\n",
       "4       Island attire inspired by Alex Colville.\\n.\\n....\n",
       "...                                                   ...\n",
       "148389  Mexican vegan pizza I made from scratch. Meat ...\n",
       "148390                    Hummm....Can u spot the error? \n",
       "148391                    Snuggling with the dry cleaning\n",
       "148392                                  Morning practice \n",
       "148393                                  Up up and away!!!\n",
       "\n",
       "[148394 rows x 1 columns]"
      ]
     },
     "execution_count": 58,
     "metadata": {},
     "output_type": "execute_result"
    }
   ],
   "source": [
    "all_texts = texts + caption_list\n",
    "all_texts_df = pd.DataFrame(all_texts)\n",
    "all_texts_df.columns = [\"Captions\"]\n",
    "\n",
    "all_texts_df"
   ]
  },
  {
   "cell_type": "code",
   "execution_count": 59,
   "id": "1daf3368",
   "metadata": {},
   "outputs": [],
   "source": [
    "#Export\n",
    "all_texts_df.to_csv(\"Data/Final_Data.csv\")"
   ]
  }
 ],
 "metadata": {
  "kernelspec": {
   "display_name": "Python 3 (ipykernel)",
   "language": "python",
   "name": "python3"
  },
  "language_info": {
   "codemirror_mode": {
    "name": "ipython",
    "version": 3
   },
   "file_extension": ".py",
   "mimetype": "text/x-python",
   "name": "python",
   "nbconvert_exporter": "python",
   "pygments_lexer": "ipython3",
   "version": "3.9.13"
  }
 },
 "nbformat": 4,
 "nbformat_minor": 5
}
